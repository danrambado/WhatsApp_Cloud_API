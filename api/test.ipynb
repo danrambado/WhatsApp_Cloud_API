{
 "cells": [
  {
   "cell_type": "code",
   "execution_count": 2,
   "metadata": {},
   "outputs": [
    {
     "name": "stdout",
     "output_type": "stream",
     "text": [
      "[{'idpersona': 975764, 'OsId': 1972, 'fecha': '2023-03-22', 'hora': '08:00', 'apellido': 'ACEVEDO', 'nombre': 'MARIA TERESA', 'rrhhid': 1001069}, {'idpersona': 975764, 'OsId': 1973, 'fecha': '2023-03-22', 'hora': '08:30', 'apellido': 'ACEVEDO', 'nombre': 'MARIA TERESA', 'rrhhid': 1000145}]\n"
     ]
    }
   ],
   "source": [
    "lista_original = [\n",
    "    {\n",
    "        \"idpersona\": 975764,\n",
    "        \"tiposid\": 1056,\n",
    "        \"OsId\": 1972,\n",
    "        \"fecha\": \"2023-03-22 08:00\",\n",
    "        \"apellido\": \"ACEVEDO\",\n",
    "        \"apellido1\": \"\",\n",
    "        \"nombre\": \"MARIA\",\n",
    "        \"nombre1\": \"TERESA\",\n",
    "        \"estadoid\": 2,\n",
    "        \"prestadorid\": 460,\n",
    "        \"planid\": 288,\n",
    "        \"nroafiliado\": \"1233456101019\",\n",
    "        \"rrhhid\": 1001069,\n",
    "        \"rolid\": 181,\n",
    "        \"sector\": 3,\n",
    "        \"sucursal\": 1\n",
    "    },\n",
    "    {\n",
    "        \"idpersona\": 975764,\n",
    "        \"tiposid\": 1056,\n",
    "        \"OsId\": 1973,\n",
    "        \"fecha\": \"2023-03-22 08:30\",\n",
    "        \"apellido\": \"ACEVEDO\",\n",
    "        \"apellido1\": \"\",\n",
    "        \"nombre\": \"MARIA\",\n",
    "        \"nombre1\": \"TERESA\",\n",
    "        \"estadoid\": 2,\n",
    "        \"prestadorid\": 460,\n",
    "        \"planid\": 288,\n",
    "        \"nroafiliado\": \"1233456101019\",\n",
    "        \"rrhhid\": 1000145,\n",
    "        \"rolid\": 181,\n",
    "        \"sector\": 3,\n",
    "        \"sucursal\": 1\n",
    "    }\n",
    "]\n",
    "\n",
    "lista_procesada = []\n",
    "\n",
    "for item in lista_original:\n",
    "    nombre_completo = item['nombre'].strip()\n",
    "    if item['nombre1']:\n",
    "        nombre_completo += ' ' + item['nombre1'].strip()\n",
    "    \n",
    "    apellido_completo = item['apellido'].strip()\n",
    "    if item['apellido1']:\n",
    "        apellido_completo += ' ' + item['apellido1'].strip()\n",
    "\n",
    "    fecha_partes = item['fecha'].split()\n",
    "    fecha = fecha_partes[0]\n",
    "    hora = fecha_partes[1]\n",
    "    \n",
    "    lista_procesada.append({\n",
    "        'idpersona': item['idpersona'],\n",
    "        'OsId': item['OsId'],\n",
    "        'fecha': fecha,\n",
    "        'hora': hora,\n",
    "        'apellido': apellido_completo,\n",
    "        'nombre': nombre_completo,\n",
    "        'rrhhid': item['rrhhid']\n",
    "    })\n",
    "\n",
    "print(lista_procesada)\n"
   ]
  }
 ],
 "metadata": {
  "kernelspec": {
   "display_name": "b_w_iaf",
   "language": "python",
   "name": "python3"
  },
  "language_info": {
   "codemirror_mode": {
    "name": "ipython",
    "version": 3
   },
   "file_extension": ".py",
   "mimetype": "text/x-python",
   "name": "python",
   "nbconvert_exporter": "python",
   "pygments_lexer": "ipython3",
   "version": "3.10.6"
  },
  "orig_nbformat": 4
 },
 "nbformat": 4,
 "nbformat_minor": 2
}
